{
 "cells": [
  {
   "cell_type": "code",
   "execution_count": 1,
   "id": "e966b079",
   "metadata": {},
   "outputs": [],
   "source": [
    "#pip install pymongo  "
   ]
  },
  {
   "cell_type": "code",
   "execution_count": 1,
   "id": "3cc4511e",
   "metadata": {},
   "outputs": [],
   "source": [
    "from pymongo import MongoClient # import mongo client to connect  \n",
    "import pprint  "
   ]
  },
  {
   "cell_type": "code",
   "execution_count": 2,
   "id": "160745b3",
   "metadata": {},
   "outputs": [],
   "source": [
    "\n",
    "# Creating instance of mongoclient  \n",
    "client = MongoClient()  "
   ]
  },
  {
   "cell_type": "code",
   "execution_count": 3,
   "id": "5d326ddd",
   "metadata": {},
   "outputs": [],
   "source": [
    "# Creating database  \n",
    "db = client.sample \n"
   ]
  },
  {
   "cell_type": "code",
   "execution_count": 4,
   "id": "2314ebdf",
   "metadata": {},
   "outputs": [],
   "source": [
    "\n",
    "# Creating document  (collection)\n",
    "employees = db.employees  "
   ]
  },
  {
   "cell_type": "code",
   "execution_count": 5,
   "id": "b21a300c",
   "metadata": {},
   "outputs": [],
   "source": [
    "employee = {\"id\": \"101\",  \n",
    "\"name\": \"Peter\",  \n",
    "\"profession\": \"Software Engineer\",  \n",
    "}  "
   ]
  },
  {
   "cell_type": "code",
   "execution_count": 6,
   "id": "7bd42db2",
   "metadata": {},
   "outputs": [
    {
     "data": {
      "text/plain": [
       "<pymongo.results.InsertOneResult at 0x1d2ef01b8e0>"
      ]
     },
     "execution_count": 6,
     "metadata": {},
     "output_type": "execute_result"
    }
   ],
   "source": [
    "# Inserting data  \n",
    "employees.insert_one(employee)  \n"
   ]
  },
  {
   "cell_type": "code",
   "execution_count": 7,
   "id": "1d5ba926",
   "metadata": {},
   "outputs": [
    {
     "data": {
      "text/plain": [
       "{'_id': ObjectId('62a830b3652508010d8ca27f'),\n",
       " 'id': '101',\n",
       " 'name': 'Peter',\n",
       " 'profession': 'Software Engineer'}"
      ]
     },
     "execution_count": 7,
     "metadata": {},
     "output_type": "execute_result"
    }
   ],
   "source": [
    "employees.find_one()"
   ]
  },
  {
   "cell_type": "code",
   "execution_count": 38,
   "id": "fa6943f3",
   "metadata": {},
   "outputs": [],
   "source": [
    "# # Fetching data  \n",
    "# pprint.pprint(employees.find_one())  "
   ]
  },
  {
   "cell_type": "code",
   "execution_count": 8,
   "id": "c574ba47",
   "metadata": {},
   "outputs": [
    {
     "data": {
      "text/plain": [
       "['admin', 'config', 'local', 'sample']"
      ]
     },
     "execution_count": 8,
     "metadata": {},
     "output_type": "execute_result"
    }
   ],
   "source": [
    "# Existing list of DBs -\n",
    "\n",
    "client.list_database_names()"
   ]
  },
  {
   "cell_type": "code",
   "execution_count": 10,
   "id": "440e0b59",
   "metadata": {},
   "outputs": [
    {
     "name": "stdout",
     "output_type": "stream",
     "text": [
      "DB: 'sample' exists\n"
     ]
    }
   ],
   "source": [
    "# let's verify whether we have our database in the list or not \n",
    "# we'll use the following function:-\n",
    "\n",
    "def checkExistence_DB(DB_NAME, client):\n",
    "    \"\"\"It verifies the existence of DB\"\"\"\n",
    "    DBlist = client.list_database_names()\n",
    "    if DB_NAME in DBlist:\n",
    "        print(f\"DB: '{DB_NAME}' exists\")\n",
    "        return True\n",
    "    print(f\"DB: '{DB_NAME}' not yet present OR no collection is present in the DB\")\n",
    "    return False\n",
    "\n",
    "DB_NAME = \"sample\"\n",
    "_ = checkExistence_DB(DB_NAME=DB_NAME , client=client)"
   ]
  },
  {
   "cell_type": "code",
   "execution_count": 11,
   "id": "b460d485",
   "metadata": {},
   "outputs": [
    {
     "name": "stdout",
     "output_type": "stream",
     "text": [
      "DB: 'sample' exists\n"
     ]
    }
   ],
   "source": [
    "# Verify DATABASE\n",
    "_ = checkExistence_DB(DB_NAME=DB_NAME, client=client)"
   ]
  },
  {
   "cell_type": "code",
   "execution_count": 12,
   "id": "da412016",
   "metadata": {},
   "outputs": [],
   "source": [
    "\n"
   ]
  },
  {
   "cell_type": "code",
   "execution_count": 14,
   "id": "8d6d5870",
   "metadata": {},
   "outputs": [
    {
     "name": "stdout",
     "output_type": "stream",
     "text": [
      "Collection:'employees' in Database:'sample' exists\n"
     ]
    }
   ],
   "source": [
    "# let's verify whether we have our database in the list or not \n",
    "# we'll use the following function:-\n",
    "\n",
    "def checkExistence_COL(COLLECTION_NAME, DB_NAME, db):\n",
    "    \"\"\"It verifies the existence of collection name in a database\"\"\"\n",
    "    collection_list = db.list_collection_names()\n",
    "    \n",
    "    if COLLECTION_NAME in collection_list:\n",
    "        print(f\"Collection:'{COLLECTION_NAME}' in Database:'{DB_NAME}' exists\")\n",
    "        return True\n",
    "    \n",
    "    print(f\"Collection:'{COLLECTION_NAME}' in Database:'{DB_NAME}' does not exists OR \\n\\\n",
    "    no documents are present in the collection\")\n",
    "    return False\n",
    "\n",
    "\n",
    "COLLECTION_NAME = \"employees\"\n",
    "_ = checkExistence_COL(COLLECTION_NAME=COLLECTION_NAME, DB_NAME=DB_NAME, db=db)"
   ]
  },
  {
   "cell_type": "code",
   "execution_count": 16,
   "id": "90f6c7a9",
   "metadata": {},
   "outputs": [
    {
     "name": "stdout",
     "output_type": "stream",
     "text": [
      "Collection:'employees' in Database:'sample' exists\n"
     ]
    }
   ],
   "source": [
    "_ = checkExistence_COL(COLLECTION_NAME=COLLECTION_NAME, DB_NAME=DB_NAME, db=db)"
   ]
  },
  {
   "cell_type": "code",
   "execution_count": 19,
   "id": "0f3f2a52",
   "metadata": {},
   "outputs": [],
   "source": [
    "record = {\n",
    "    \"name\": \"Hitesh\",\n",
    "    \"email\": \"hitesh@hiteshchoudhary.com\",\n",
    "    \"contact\": [\"9999999999\",\"88888888888\"],\n",
    "    \"courseCount\": 4,\n",
    "    \"courseOffered\": 'Deep Learning for Computer Vision',\n",
    "    \"isVerified\": True\n",
    "}"
   ]
  },
  {
   "cell_type": "code",
   "execution_count": 20,
   "id": "63fe2df5",
   "metadata": {},
   "outputs": [
    {
     "data": {
      "text/plain": [
       "<pymongo.results.InsertOneResult at 0x1d2f0d5b970>"
      ]
     },
     "execution_count": 20,
     "metadata": {},
     "output_type": "execute_result"
    }
   ],
   "source": [
    "employees.insert_one(record)"
   ]
  },
  {
   "cell_type": "markdown",
   "id": "1e525dc4",
   "metadata": {},
   "source": [
    "# Insert multiple records"
   ]
  },
  {
   "cell_type": "code",
   "execution_count": 22,
   "id": "579f8717",
   "metadata": {},
   "outputs": [],
   "source": [
    "list_of_records = [\n",
    "    \n",
    "  {\n",
    "    \"name\": \"Hitesh\",\n",
    "    \"email\": \"hitesh@hiteshchoudhary.com\",\n",
    "    \"courseCount\": 4\n",
    "  },\n",
    "  {\n",
    "    \"name\": \"Mark\",\n",
    "    \"email\": \"mark@example.com\",\n",
    "    \"courseCount\": 2\n",
    "  },\n",
    "  {\n",
    "    \"name\": \"Tom\",\n",
    "    \"email\": \"tom@example.com\",\n",
    "    \"courseCount\": 5\n",
    "  },\n",
    "  {\n",
    "    \"name\": \"Jerry\",\n",
    "    \"email\": \"jerry@example.com\",\n",
    "    \"courseCount\": 3\n",
    "  },\n",
    "  {\n",
    "    \"name\": \"spider\",\n",
    "    \"email\": \"spider@example.com\",\n",
    "    \"courseCount\": 2\n",
    "  }]\n",
    "    "
   ]
  },
  {
   "cell_type": "code",
   "execution_count": 23,
   "id": "556fed7a",
   "metadata": {},
   "outputs": [],
   "source": [
    "mul_rec = employees.insert_many(list_of_records)"
   ]
  },
  {
   "cell_type": "code",
   "execution_count": 24,
   "id": "9e8bb1a4",
   "metadata": {},
   "outputs": [
    {
     "data": {
      "text/plain": [
       "{'_id': ObjectId('62a830b3652508010d8ca27f'),\n",
       " 'id': '101',\n",
       " 'name': 'Peter',\n",
       " 'profession': 'Software Engineer'}"
      ]
     },
     "execution_count": 24,
     "metadata": {},
     "output_type": "execute_result"
    }
   ],
   "source": [
    "#employees.find_one()"
   ]
  },
  {
   "cell_type": "code",
   "execution_count": 26,
   "id": "d81189f8",
   "metadata": {},
   "outputs": [
    {
     "name": "stdout",
     "output_type": "stream",
     "text": [
      "0. 62a831fa652508010d8ca281\n",
      "1. 62a831fa652508010d8ca282\n",
      "2. 62a831fa652508010d8ca283\n",
      "3. 62a831fa652508010d8ca284\n",
      "4. 62a831fa652508010d8ca285\n"
     ]
    }
   ],
   "source": [
    "# rec = employees.insert_many(list_of_records)\n",
    "\n",
    "# lets print he unique ID that of the record that we have inserted -\n",
    "inserted_IDs = mul_rec.inserted_ids\n",
    "\n",
    "for idx, unique_ids in enumerate(inserted_IDs):\n",
    "    print(f\"{idx}. {unique_ids}\")"
   ]
  },
  {
   "cell_type": "code",
   "execution_count": 28,
   "id": "bac6ec2f",
   "metadata": {},
   "outputs": [],
   "source": [
    "COLLECTION_NAME = \"students\"\n",
    "students = db[COLLECTION_NAME]\n",
    "\n",
    "list_of_records_user_defined_id =[\n",
    "    {\n",
    "    \"_id\": \"6\",\n",
    "    \"name\": \"Hitesh\",\n",
    "    \"email\": \"hitesh@hiteshchoudhary.com\",\n",
    "    \"contact\": \"9999999999\",\n",
    "    \"courseCount\": 4,\n",
    "    \"isVerified\": True\n",
    "},\n",
    "{\n",
    "    \"_id\": \"8\",\n",
    "    \"name\": \"Mark\",\n",
    "    \"email\": \"mark@example.com\",\n",
    "    \"contact\": \"9999999888\",\n",
    "    \"courseCount\": 2,\n",
    "    \"isVerified\": False\n",
    "}\n",
    "]\n",
    "\n",
    "students_record = students.insert_many(list_of_records_user_defined_id)"
   ]
  },
  {
   "cell_type": "code",
   "execution_count": 29,
   "id": "b10dd396",
   "metadata": {
    "scrolled": true
   },
   "outputs": [
    {
     "name": "stdout",
     "output_type": "stream",
     "text": [
      "The first record of collection: \n",
      "students is=\n",
      "{'_id': '6', 'name': 'Hitesh', 'email': 'hitesh@hiteshchoudhary.com', 'contact': '9999999999', 'courseCount': 4, 'isVerified': True}\n"
     ]
    }
   ],
   "source": [
    "find_first_record = students.find_one()\n",
    "\n",
    "print(f\"The first record of collection: \\n{COLLECTION_NAME} is=\\\n",
    "\\n{find_first_record}\")"
   ]
  },
  {
   "cell_type": "code",
   "execution_count": 33,
   "id": "9510da33",
   "metadata": {},
   "outputs": [
    {
     "name": "stdout",
     "output_type": "stream",
     "text": [
      "{'_id': '6', 'name': 'Hitesh', 'email': 'hitesh@hiteshchoudhary.com', 'contact': '9999999999', 'courseCount': 4, 'isVerified': True}\n",
      "{'_id': '8', 'name': 'Mark', 'email': 'mark@example.com', 'contact': '9999999888', 'courseCount': 2, 'isVerified': False}\n"
     ]
    }
   ],
   "source": [
    "for i in students.find():\n",
    "    print(i)"
   ]
  },
  {
   "cell_type": "code",
   "execution_count": 34,
   "id": "44f87a39",
   "metadata": {},
   "outputs": [
    {
     "name": "stdout",
     "output_type": "stream",
     "text": [
      "0: {'_id': '6', 'name': 'Hitesh', 'email': 'hitesh@hiteshchoudhary.com', 'contact': '9999999999', 'courseCount': 4, 'isVerified': True}\n",
      "1: {'_id': '8', 'name': 'Mark', 'email': 'mark@example.com', 'contact': '9999999888', 'courseCount': 2, 'isVerified': False}\n"
     ]
    }
   ],
   "source": [
    "# find all the record at once present in the record with all the fields\n",
    "all_record = students.find()\n",
    "\n",
    "for idx, record in enumerate(all_record):\n",
    "    print(f\"{idx}: {record}\")"
   ]
  },
  {
   "cell_type": "code",
   "execution_count": 35,
   "id": "163a4c72",
   "metadata": {},
   "outputs": [
    {
     "name": "stdout",
     "output_type": "stream",
     "text": [
      "0: {'_id': '6', 'email': 'hitesh@hiteshchoudhary.com'}\n",
      "1: {'_id': '8', 'email': 'mark@example.com'}\n"
     ]
    }
   ],
   "source": [
    "# find all the record at once present in the record with SPECIFIC fields\n",
    "all_record = students.find({}, {\"email\"})\n",
    "\n",
    "for idx, record in enumerate(all_record):\n",
    "    print(f\"{idx}: {record}\")"
   ]
  },
  {
   "cell_type": "markdown",
   "id": "87fa7b48",
   "metadata": {},
   "source": [
    "# Query or filter out data in MongoDB"
   ]
  },
  {
   "cell_type": "code",
   "execution_count": 80,
   "id": "2ec29d8c",
   "metadata": {},
   "outputs": [
    {
     "name": "stdout",
     "output_type": "stream",
     "text": [
      "{'_id': ObjectId('62a830b3652508010d8ca27f'), 'id': '101', 'name': 'Peter', 'profession': 'Software Engineer'}\n",
      "{'_id': ObjectId('62a831d6652508010d8ca280'), 'name': 'Hitesh', 'email': 'hitesh@hiteshchoudhary.com', 'contact': ['9999999999', '88888888888'], 'courseCount': 4, 'courseOffered': 'Deep Learning for Computer Vision', 'isVerified': True}\n",
      "{'_id': ObjectId('62a831fa652508010d8ca281'), 'name': 'Hitesh', 'email': 'hitesh@hiteshchoudhary.com', 'courseCount': 4}\n",
      "{'_id': ObjectId('62a831fa652508010d8ca282'), 'name': 'Mark', 'email': 'mark@example.com', 'courseCount': 2}\n",
      "{'_id': ObjectId('62a831fa652508010d8ca283'), 'name': 'Tom', 'email': 'tom@example.com', 'courseCount': 5}\n",
      "{'_id': ObjectId('62a831fa652508010d8ca284'), 'name': 'Jerry', 'email': 'jerry@example.com', 'courseCount': 3}\n",
      "{'_id': ObjectId('62a831fa652508010d8ca285'), 'name': 'spider', 'email': 'spider@example.com', 'courseCount': 2}\n"
     ]
    }
   ],
   "source": [
    "for i in employees.find():\n",
    "    print(i)"
   ]
  },
  {
   "cell_type": "code",
   "execution_count": 84,
   "id": "b89c9f6c",
   "metadata": {},
   "outputs": [
    {
     "name": "stdout",
     "output_type": "stream",
     "text": [
      "{'_id': ObjectId('62a831d6652508010d8ca280'), 'name': 'Hitesh', 'email': 'hitesh@hiteshchoudhary.com', 'contact': ['9999999999', '88888888888'], 'courseCount': 4, 'courseOffered': 'Deep Learning for Computer Vision', 'isVerified': True}\n",
      "{'_id': ObjectId('62a831fa652508010d8ca281'), 'name': 'Hitesh', 'email': 'hitesh@hiteshchoudhary.com', 'courseCount': 4}\n"
     ]
    }
   ],
   "source": [
    "for i in employees.find({'name': 'Hitesh'}):\n",
    "    print(i)"
   ]
  },
  {
   "cell_type": "code",
   "execution_count": 98,
   "id": "0f950ce2",
   "metadata": {},
   "outputs": [
    {
     "name": "stdout",
     "output_type": "stream",
     "text": [
      "{'_id': '6', 'name': 'Hitesh', 'email': 'hitesh@hiteshchoudhary.com', 'contact': '9999999999', 'courseCount': 4, 'isVerified': True}\n",
      "{'_id': '8', 'name': 'Mark', 'email': 'mark@example.com', 'contact': '9999999888', 'courseCount': 2, 'isVerified': False}\n"
     ]
    }
   ],
   "source": [
    "for i in students.find({'_id':{'$gt':'1'}}):\n",
    "    print(i)"
   ]
  },
  {
   "cell_type": "code",
   "execution_count": 101,
   "id": "f097b09d",
   "metadata": {},
   "outputs": [
    {
     "name": "stdout",
     "output_type": "stream",
     "text": [
      "{'_id': '6', 'name': 'Hitesh', 'email': 'hitesh@hiteshchoudhary.com', 'contact': '9999999999', 'courseCount': 4, 'isVerified': True}\n"
     ]
    }
   ],
   "source": [
    "query1 = {\"_id\": '6'}\n",
    "\n",
    "results =students.find(query1)\n",
    "for data in results:\n",
    "    print(data)"
   ]
  },
  {
   "cell_type": "markdown",
   "id": "48fa571a",
   "metadata": {},
   "source": [
    "# Delete one or many documents"
   ]
  },
  {
   "cell_type": "code",
   "execution_count": 102,
   "id": "6109c662",
   "metadata": {},
   "outputs": [
    {
     "data": {
      "text/plain": [
       "<pymongo.results.InsertManyResult at 0x1d2f0e2fa90>"
      ]
     },
     "execution_count": 102,
     "metadata": {},
     "output_type": "execute_result"
    }
   ],
   "source": [
    "# Lets add some random data in faculties\n",
    "random_data = [\n",
    "    {'_id': '3', 'companyName': 'Bbbbb', 'Faculty': 'XYZ'},\n",
    "    {'_id': '4', 'companyName': 'Bbbbb', 'Faculty': 'ABC'},\n",
    "    {'_id': '5', 'companyName': 'Bbbbb', 'Faculty': 'PQR'},\n",
    "]\n",
    "\n",
    "employees.insert_many(random_data)\n"
   ]
  },
  {
   "cell_type": "code",
   "execution_count": 103,
   "id": "85fa6127",
   "metadata": {},
   "outputs": [
    {
     "data": {
      "text/plain": [
       "<pymongo.results.DeleteResult at 0x1d2f0c06b20>"
      ]
     },
     "execution_count": 103,
     "metadata": {},
     "output_type": "execute_result"
    }
   ],
   "source": [
    "# Lets delete one document in faculties\n",
    "query_to_delete = {\"Faculty\": \"XYZ\"}\n",
    "\n",
    "employees.delete_one(query_to_delete)"
   ]
  },
  {
   "cell_type": "code",
   "execution_count": 104,
   "id": "27e9c21d",
   "metadata": {},
   "outputs": [
    {
     "name": "stdout",
     "output_type": "stream",
     "text": [
      "{'_id': '4', 'companyName': 'Bbbbb', 'Faculty': 'ABC'}\n",
      "{'_id': '5', 'companyName': 'Bbbbb', 'Faculty': 'PQR'}\n"
     ]
    }
   ],
   "source": [
    "for i in employees.find({\"_id\": {\"$gte\": \"4\"}}):\n",
    "    print(i)"
   ]
  },
  {
   "cell_type": "code",
   "execution_count": 105,
   "id": "f9101c56",
   "metadata": {},
   "outputs": [
    {
     "data": {
      "text/plain": [
       "<pymongo.results.DeleteResult at 0x1d2f0d5bcd0>"
      ]
     },
     "execution_count": 105,
     "metadata": {},
     "output_type": "execute_result"
    }
   ],
   "source": [
    "employees.delete_many({\"_id\": {\"$gte\": \"4\"}})"
   ]
  },
  {
   "cell_type": "code",
   "execution_count": null,
   "id": "67b54532",
   "metadata": {},
   "outputs": [],
   "source": [
    "# NOTE: In order to delete all the documents present in the collection you can just pass and empty dictionary as shown below: -\n",
    "\n",
    "#faculties.delete_many({})"
   ]
  },
  {
   "cell_type": "code",
   "execution_count": null,
   "id": "ff6e6696",
   "metadata": {},
   "outputs": [],
   "source": [
    "# # lets delete multiple record\n",
    "# multi_query_to_delete = {\"_id\": {\"$gte\": \"4\"}}\n",
    "\n",
    "# faculties.delete_many(multi_query_to_delete)"
   ]
  },
  {
   "cell_type": "markdown",
   "id": "427f4883",
   "metadata": {},
   "source": [
    "# Drop the entire collection"
   ]
  },
  {
   "cell_type": "code",
   "execution_count": 106,
   "id": "197f1949",
   "metadata": {},
   "outputs": [],
   "source": [
    "students.drop()"
   ]
  },
  {
   "cell_type": "code",
   "execution_count": 107,
   "id": "c47ffb6d",
   "metadata": {},
   "outputs": [
    {
     "name": "stdout",
     "output_type": "stream",
     "text": [
      "Collection:'students' in Database:'sample' does not exists OR \n",
      "    no documents are present in the collection\n"
     ]
    }
   ],
   "source": [
    "COLLECTION_NAME = \"students\"\n",
    "\n",
    "_ = checkExistence_COL(COLLECTION_NAME=COLLECTION_NAME, DB_NAME=DB_NAME, db=db)"
   ]
  },
  {
   "cell_type": "markdown",
   "id": "35aab716",
   "metadata": {},
   "source": [
    "# Update"
   ]
  },
  {
   "cell_type": "code",
   "execution_count": 110,
   "id": "c723cc9c",
   "metadata": {},
   "outputs": [
    {
     "name": "stdout",
     "output_type": "stream",
     "text": [
      "{'_id': ObjectId('62a831fa652508010d8ca283'), 'name': 'Tom', 'email': 'tom@example.com', 'courseCount': 5}\n"
     ]
    }
   ],
   "source": [
    "for i in employees.find({},{'name': 'Tom'}):\n",
    "    print(i)"
   ]
  },
  {
   "cell_type": "code",
   "execution_count": 118,
   "id": "265bd8d4",
   "metadata": {},
   "outputs": [],
   "source": [
    "present_data = {'name': 'Jerry'}\n",
    "new_data = {\"$set\":{'name': 'Tom'}}"
   ]
  },
  {
   "cell_type": "code",
   "execution_count": 121,
   "id": "d228cbdf",
   "metadata": {},
   "outputs": [
    {
     "data": {
      "text/plain": [
       "<pymongo.results.UpdateResult at 0x1d2f0e2f9d0>"
      ]
     },
     "execution_count": 121,
     "metadata": {},
     "output_type": "execute_result"
    }
   ],
   "source": [
    "employees.update_one(present_data, new_data)"
   ]
  },
  {
   "cell_type": "code",
   "execution_count": 123,
   "id": "430c0ccd",
   "metadata": {},
   "outputs": [
    {
     "data": {
      "text/plain": [
       "<pymongo.results.UpdateResult at 0x1d2f0d5b790>"
      ]
     },
     "execution_count": 123,
     "metadata": {},
     "output_type": "execute_result"
    }
   ],
   "source": [
    "employees.update_many(present_data, new_data)"
   ]
  },
  {
   "cell_type": "markdown",
   "id": "099be45c",
   "metadata": {},
   "source": [
    "# Set limit to view N records"
   ]
  },
  {
   "cell_type": "code",
   "execution_count": 125,
   "id": "a556c78a",
   "metadata": {},
   "outputs": [
    {
     "name": "stdout",
     "output_type": "stream",
     "text": [
      "{'_id': ObjectId('62a830b3652508010d8ca27f'), 'id': '101', 'name': 'Peter', 'profession': 'Software Engineer'}\n",
      "\n",
      "{'_id': ObjectId('62a831d6652508010d8ca280'), 'name': 'Hitesh', 'email': 'hitesh@hiteshchoudhary.com', 'contact': ['9999999999', '88888888888'], 'courseCount': 4, 'courseOffered': 'Deep Learning for Computer Vision', 'isVerified': True}\n",
      "\n",
      "{'_id': ObjectId('62a831fa652508010d8ca281'), 'name': 'Hitesh', 'email': 'hitesh@hiteshchoudhary.com', 'courseCount': 4}\n",
      "\n"
     ]
    }
   ],
   "source": [
    "N_records = 3\n",
    "\n",
    "N_record = employees.find().limit(N_records)\n",
    "\n",
    "for idx, record in enumerate(N_record):\n",
    "    print(f\"{record}\\n\")"
   ]
  },
  {
   "cell_type": "code",
   "execution_count": null,
   "id": "20754a2f",
   "metadata": {},
   "outputs": [],
   "source": []
  }
 ],
 "metadata": {
  "kernelspec": {
   "display_name": "Python 3 (ipykernel)",
   "language": "python",
   "name": "python3"
  },
  "language_info": {
   "codemirror_mode": {
    "name": "ipython",
    "version": 3
   },
   "file_extension": ".py",
   "mimetype": "text/x-python",
   "name": "python",
   "nbconvert_exporter": "python",
   "pygments_lexer": "ipython3",
   "version": "3.9.7"
  }
 },
 "nbformat": 4,
 "nbformat_minor": 5
}
